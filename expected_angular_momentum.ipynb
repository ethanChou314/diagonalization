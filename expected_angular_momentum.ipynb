{
 "cells": [
  {
   "cell_type": "code",
   "execution_count": 1,
   "id": "9c2f2d6c",
   "metadata": {},
   "outputs": [],
   "source": [
    "import sys\n",
    "sys.path.append(\"./defect_atom_diag\")"
   ]
  },
  {
   "cell_type": "code",
   "execution_count": 2,
   "id": "9edaa150",
   "metadata": {},
   "outputs": [],
   "source": [
    "import numpy as np\n",
    "import pandas as pd\n",
    "from functools import lru_cache as cache\n",
    "from apply_sym_wan import make_ylm_wanns"
   ]
  },
  {
   "cell_type": "code",
   "execution_count": 38,
   "id": "4ed90db9",
   "metadata": {},
   "outputs": [],
   "source": [
    "N_MESH: int = 500"
   ]
  },
  {
   "cell_type": "code",
   "execution_count": 39,
   "id": "115e2c47",
   "metadata": {},
   "outputs": [],
   "source": [
    "def normalize(A, delr):\n",
    "    return A / np.sqrt(integrate(np.conjugate(A)*A, delr))\n",
    "\n",
    "@cache\n",
    "def ylm_wrapper(ll, rad_scale):\n",
    "    wann, delr = make_ylm_wanns(ll, (N_MESH,)*3, \"spherical\", rad_scale)\n",
    "    \n",
    "    for i in range(len(wann)):\n",
    "        if not np.all(np.isreal(wann[i])):\n",
    "            wann[i] = normalize(wann[i], delr)\n",
    "    \n",
    "    return wann, delr"
   ]
  },
  {
   "cell_type": "code",
   "execution_count": 40,
   "id": "249df4da",
   "metadata": {},
   "outputs": [],
   "source": [
    "def integrate(A, delr):\n",
    "    \"\"\"\n",
    "    Take the numerical integration (using summation approximation)\n",
    "    \n",
    "    Parameters:\n",
    "        A (3d array): matrix of values to be integrated\n",
    "        delr (list[float]): (dx, dy, dz)\n",
    "    \"\"\"\n",
    "#     return np.sum(A) * np.product(delr)\n",
    "#     print(delr)\n",
    "    return np.trapz(np.trapz(np.trapz(A, dx=delr[0], axis=0), \n",
    "                             dx=delr[1], axis=0), dx=delr[2], axis=0)\n",
    "\n",
    "\n",
    "def avg_ang_mom(psi, h_bar=1):\n",
    "    \"\"\"\n",
    "    Take the average of angular momentum using wave function.\n",
    "    \n",
    "    Parameters:\n",
    "        psi (3d array): wave function\n",
    "        delr (list[float]): (dx, dy, dz)\n",
    "        h_bar (float): value of reduced planck constant. Uses 1 by default.\n",
    "    \"\"\"\n",
    "    # check if psi is real:\n",
    "#     if np.all(np.isreal(psi)):\n",
    "#         raise ValueError(\"psi is a real matrix\")\n",
    "    \n",
    "    # construct axes:\n",
    "    x = np.linspace(-1, 1, psi.shape[0])\n",
    "    y = np.linspace(-1, 1, psi.shape[1])\n",
    "    z = np.linspace(-1, 1, psi.shape[2])\n",
    "    delr = (x[1]-x[0], y[1]-y[0], z[1]-z[0])\n",
    "    xx, yy, zz = np.meshgrid(x, y, z, indexing=\"ij\")\n",
    "    \n",
    "    if psi.shape != xx.shape:\n",
    "        raise ValueError(\"Dimension mismatch\")\n",
    "        \n",
    "    # complex conjugate of wave function:\n",
    "    psi_conj = np.conjugate(psi)\n",
    "    \n",
    "    # partial derivatives:\n",
    "    dpsi_dx, dpsi_dy, dpsi_dz = np.gradient(psi, *delr)\n",
    "    \n",
    "    # value of operator in each dimension:\n",
    "    const = -1j * h_bar  # constant (-i*h_bar)\n",
    "    L_x_op = const * (yy * dpsi_dz - zz * dpsi_dy)\n",
    "    L_y_op = const * (zz * dpsi_dx - xx * dpsi_dz)\n",
    "    L_z_op = const * (xx * dpsi_dy - yy * dpsi_dx)\n",
    "    \n",
    "    # average in each dimension\n",
    "    L_x = np.real(integrate(psi_conj * L_x_op, delr))\n",
    "    L_y = np.real(integrate(psi_conj * L_y_op, delr))\n",
    "    L_z = np.real(integrate(psi_conj * L_z_op, delr))\n",
    "    \n",
    "    return L_x, L_y, L_z"
   ]
  },
  {
   "cell_type": "code",
   "execution_count": 41,
   "id": "918bee0d",
   "metadata": {},
   "outputs": [],
   "source": [
    "def create_table(ll_range=[0, 3], rad_scale=0.01, h_bar=1):\n",
    "    min_l = ll_range[0]\n",
    "    max_l = ll_range[-1]\n",
    "\n",
    "    col_headers = [f\"m={m}\" for m in range(-max_l, max_l + 1)]\n",
    "    row_headers = [f\"l={l}\" for l in range(min_l, max_l + 1)]\n",
    "\n",
    "    data = []\n",
    "    \n",
    "    for l in range(min_l, max_l + 1):\n",
    "        psi = ylm_wrapper(l, rad_scale)[0]\n",
    "        \n",
    "        row = []\n",
    "        \n",
    "        i = 0\n",
    "        for m in range(-max_l, max_l + 1):\n",
    "            if -l <= m <= l:\n",
    "#                 Lx, Ly, Lz = \n",
    "#                 print((Lx, Ly, Lz))\n",
    "                # Store the vector as a tuple\n",
    "                row.append(tuple(\"{:.2e}\".format(value) \\\n",
    "                                 for value in avg_ang_mom(psi[i], h_bar)))\n",
    "                i += 1\n",
    "            else:\n",
    "                row.append(\"-\")\n",
    "            \n",
    "        data.append(row)\n",
    "\n",
    "    df = pd.DataFrame(data, index=row_headers, columns=col_headers)\n",
    "    return df"
   ]
  },
  {
   "cell_type": "code",
   "execution_count": 42,
   "id": "118c3ba4",
   "metadata": {},
   "outputs": [],
   "source": [
    "df = create_table(ll_range=[0, 1], h_bar=1)"
   ]
  },
  {
   "cell_type": "code",
   "execution_count": 43,
   "id": "5a180997",
   "metadata": {},
   "outputs": [
    {
     "data": {
      "text/html": [
       "<div>\n",
       "<style scoped>\n",
       "    .dataframe tbody tr th:only-of-type {\n",
       "        vertical-align: middle;\n",
       "    }\n",
       "\n",
       "    .dataframe tbody tr th {\n",
       "        vertical-align: top;\n",
       "    }\n",
       "\n",
       "    .dataframe thead th {\n",
       "        text-align: right;\n",
       "    }\n",
       "</style>\n",
       "<table border=\"1\" class=\"dataframe\">\n",
       "  <thead>\n",
       "    <tr style=\"text-align: right;\">\n",
       "      <th></th>\n",
       "      <th>m=-1</th>\n",
       "      <th>m=0</th>\n",
       "      <th>m=1</th>\n",
       "    </tr>\n",
       "  </thead>\n",
       "  <tbody>\n",
       "    <tr>\n",
       "      <th>l=0</th>\n",
       "      <td>-</td>\n",
       "      <td>(0.00e+00, 0.00e+00, 0.00e+00)</td>\n",
       "      <td>-</td>\n",
       "    </tr>\n",
       "    <tr>\n",
       "      <th>l=1</th>\n",
       "      <td>(-1.12e-21, 6.75e-19, -1.01e+00)</td>\n",
       "      <td>(0.00e+00, 0.00e+00, 0.00e+00)</td>\n",
       "      <td>(1.12e-21, -6.75e-19, 1.01e+00)</td>\n",
       "    </tr>\n",
       "  </tbody>\n",
       "</table>\n",
       "</div>"
      ],
      "text/plain": [
       "                                 m=-1                             m=0  \\\n",
       "l=0                                 -  (0.00e+00, 0.00e+00, 0.00e+00)   \n",
       "l=1  (-1.12e-21, 6.75e-19, -1.01e+00)  (0.00e+00, 0.00e+00, 0.00e+00)   \n",
       "\n",
       "                                 m=1  \n",
       "l=0                                -  \n",
       "l=1  (1.12e-21, -6.75e-19, 1.01e+00)  "
      ]
     },
     "execution_count": 43,
     "metadata": {},
     "output_type": "execute_result"
    }
   ],
   "source": [
    "df"
   ]
  },
  {
   "cell_type": "code",
   "execution_count": 37,
   "id": "bc3645f3",
   "metadata": {},
   "outputs": [
    {
     "data": {
      "text/plain": [
       "(1+0j)"
      ]
     },
     "execution_count": 37,
     "metadata": {},
     "output_type": "execute_result"
    }
   ],
   "source": [
    "wann, delr = ylm_wrapper(1, 0.01)\n",
    "psi = wann[0]\n",
    "integrate(np.conjugate(psi)*psi, delr)"
   ]
  }
 ],
 "metadata": {
  "kernelspec": {
   "display_name": "Python 3.8",
   "language": "python",
   "name": "python38"
  },
  "language_info": {
   "codemirror_mode": {
    "name": "ipython",
    "version": 3
   },
   "file_extension": ".py",
   "mimetype": "text/x-python",
   "name": "python",
   "nbconvert_exporter": "python",
   "pygments_lexer": "ipython3",
   "version": "3.8.8"
  }
 },
 "nbformat": 4,
 "nbformat_minor": 5
}
