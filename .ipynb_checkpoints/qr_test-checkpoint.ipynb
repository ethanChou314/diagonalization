{
 "cells": [
  {
   "cell_type": "code",
   "execution_count": 1,
   "id": "4f0b41f2",
   "metadata": {},
   "outputs": [],
   "source": [
    "import numpy as np\n",
    "from qr import qr_decomposition"
   ]
  },
  {
   "cell_type": "code",
   "execution_count": 4,
   "id": "acfa1304",
   "metadata": {},
   "outputs": [],
   "source": [
    "A = np.array([[5, 2, 3],\n",
    "              [4, 5, 6],\n",
    "              [7, 8, 9]])"
   ]
  },
  {
   "cell_type": "code",
   "execution_count": 6,
   "id": "c627e7c0",
   "metadata": {},
   "outputs": [
    {
     "data": {
      "text/plain": [
       "(array([[ 0.52704628, -0.8443826 ,  0.0961262 ],\n",
       "        [ 0.42163702,  0.35801822,  0.83309374],\n",
       "        [ 0.73786479,  0.39854859, -0.54471514]]),\n",
       " array([[ 9.48683298e+00,  9.06519596e+00,  1.07517440e+01],\n",
       "        [-2.22044605e-15,  3.28971461e+00,  3.20189882e+00],\n",
       "        [ 5.32907052e-15,  6.21724894e-15,  3.84504802e-01]]))"
      ]
     },
     "execution_count": 6,
     "metadata": {},
     "output_type": "execute_result"
    }
   ],
   "source": [
    "Q, R = qr_decomposition(A)\n",
    "Q, R"
   ]
  },
  {
   "cell_type": "code",
   "execution_count": 7,
   "id": "4819932b",
   "metadata": {},
   "outputs": [
    {
     "data": {
      "text/plain": [
       "array([[5., 2., 3.],\n",
       "       [4., 5., 6.],\n",
       "       [7., 8., 9.]])"
      ]
     },
     "execution_count": 7,
     "metadata": {},
     "output_type": "execute_result"
    }
   ],
   "source": [
    "Q @ R"
   ]
  },
  {
   "cell_type": "code",
   "execution_count": null,
   "id": "46852a0f",
   "metadata": {},
   "outputs": [],
   "source": []
  }
 ],
 "metadata": {
  "kernelspec": {
   "display_name": "Python 3.8",
   "language": "python",
   "name": "python38"
  },
  "language_info": {
   "codemirror_mode": {
    "name": "ipython",
    "version": 3
   },
   "file_extension": ".py",
   "mimetype": "text/x-python",
   "name": "python",
   "nbconvert_exporter": "python",
   "pygments_lexer": "ipython3",
   "version": "3.8.8"
  }
 },
 "nbformat": 4,
 "nbformat_minor": 5
}
