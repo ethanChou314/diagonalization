{
 "cells": [
  {
   "cell_type": "code",
   "execution_count": 1,
   "id": "3b91dab1",
   "metadata": {},
   "outputs": [
    {
     "ename": "TabError",
     "evalue": "inconsistent use of tabs and spaces in indentation (exact_diagonalization.py, line 38)",
     "output_type": "error",
     "traceback": [
      "Traceback \u001b[0;36m(most recent call last)\u001b[0m:\n",
      "  File \u001b[1;32m\"/Users/ethanchou/opt/anaconda3/lib/python3.8/site-packages/IPython/core/interactiveshell.py\"\u001b[0m, line \u001b[1;32m3437\u001b[0m, in \u001b[1;35mrun_code\u001b[0m\n    exec(code_obj, self.user_global_ns, self.user_ns)\n",
      "\u001b[0;36m  File \u001b[0;32m\"<ipython-input-1-6083b9b2c6a5>\"\u001b[0;36m, line \u001b[0;32m1\u001b[0;36m, in \u001b[0;35m<module>\u001b[0;36m\u001b[0m\n\u001b[0;31m    from exact_diagonalization import exact_diagonalization\u001b[0m\n",
      "\u001b[0;36m  File \u001b[0;32m\"/Users/ethanchou/Desktop/diagonalization/exact_diagonalization.py\"\u001b[0;36m, line \u001b[0;32m38\u001b[0m\n\u001b[0;31m    if i > 0:  # exclude start\u001b[0m\n\u001b[0m                              ^\u001b[0m\n\u001b[0;31mTabError\u001b[0m\u001b[0;31m:\u001b[0m inconsistent use of tabs and spaces in indentation\n"
     ]
    }
   ],
   "source": [
    "from exact_diagonalization import exact_diagonalization"
   ]
  },
  {
   "cell_type": "code",
   "execution_count": null,
   "id": "ae844239",
   "metadata": {},
   "outputs": [],
   "source": []
  }
 ],
 "metadata": {
  "kernelspec": {
   "display_name": "Python 3.8",
   "language": "python",
   "name": "python38"
  },
  "language_info": {
   "codemirror_mode": {
    "name": "ipython",
    "version": 3
   },
   "file_extension": ".py",
   "mimetype": "text/x-python",
   "name": "python",
   "nbconvert_exporter": "python",
   "pygments_lexer": "ipython3",
   "version": "3.8.8"
  }
 },
 "nbformat": 4,
 "nbformat_minor": 5
}
