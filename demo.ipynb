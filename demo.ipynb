{
 "cells": [
  {
   "cell_type": "code",
   "execution_count": 23,
   "id": "05f8f159",
   "metadata": {},
   "outputs": [],
   "source": [
    "import numpy as np\n",
    "from exact_diagonalization import exact_diagonalization"
   ]
  },
  {
   "cell_type": "code",
   "execution_count": 24,
   "id": "417cd865",
   "metadata": {},
   "outputs": [],
   "source": [
    "def generate_symmetric_matrix(n):\n",
    "    A = np.empty((n, n), dtype=float)\n",
    "    \n",
    "    visited = []\n",
    "    for i in range(n):\n",
    "        for j in range(n):\n",
    "            \n",
    "            if (i, j) in visited:\n",
    "                continue\n",
    "                \n",
    "            rand_num = np.random.rand()\n",
    "            \n",
    "            if i != j:\n",
    "                A[i, j] = rand_num\n",
    "                A[j, i] = rand_num\n",
    "                visited.append((j, i))\n",
    "            else:\n",
    "                A[i, i] = rand_num\n",
    "                \n",
    "    return A\n",
    "\n",
    "\n",
    "def error(A, B):\n",
    "    return np.sum((A - B)**2)"
   ]
  },
  {
   "cell_type": "code",
   "execution_count": 27,
   "id": "ef083e6f",
   "metadata": {},
   "outputs": [
    {
     "name": "stdout",
     "output_type": "stream",
     "text": [
      "Matrix: \n",
      " [[0.05507638 0.27158477 0.15711041]\n",
      " [0.27158477 0.26288203 0.46852157]\n",
      " [0.15711041 0.46852157 0.49846683]]\n",
      "\n",
      "Reconstructed: \n",
      " [[0.05507638 0.27158477 0.15711041]\n",
      " [0.27158477 0.26288203 0.46852157]\n",
      " [0.15711041 0.46852157 0.49846683]]\n",
      "Error: 4.4631500531229804e-29\n"
     ]
    }
   ],
   "source": [
    "A = generate_symmetric_matrix(3)\n",
    "Q, T, Q_inv = exact_diagonalization(A)\n",
    "reconstructed_A = Q @ T @ Q_inv\n",
    "\n",
    "print(f\"Matrix: \\n {A}\", end=\"\\n\\n\")\n",
    "print(f\"Reconstructed: \\n {reconstructed_A}\")\n",
    "print(f\"Error: {error(A, reconstructed_A)}\")"
   ]
  },
  {
   "cell_type": "code",
   "execution_count": 28,
   "id": "7a64c4cb",
   "metadata": {},
   "outputs": [
    {
     "name": "stdout",
     "output_type": "stream",
     "text": [
      "Matrix: \n",
      " [[0.02901716 0.8400012  0.46036963 0.27534251 0.69933207 0.98275829\n",
      "  0.5366234  0.69384401 0.73655031 0.95793076]\n",
      " [0.8400012  0.66928011 0.89142141 0.95824127 0.98729921 0.4478202\n",
      "  0.65255197 0.44055531 0.41391258 0.87929097]\n",
      " [0.46036963 0.89142141 0.15078238 0.42862802 0.49744066 0.01672111\n",
      "  0.37558426 0.78924849 0.50633667 0.21113713]\n",
      " [0.27534251 0.95824127 0.42862802 0.30563469 0.5523128  0.65599998\n",
      "  0.72816127 0.81523577 0.21716694 0.67512594]\n",
      " [0.69933207 0.98729921 0.49744066 0.5523128  0.68593304 0.10171932\n",
      "  0.17375678 0.45299754 0.36755016 0.21550285]\n",
      " [0.98275829 0.4478202  0.01672111 0.65599998 0.10171932 0.71660803\n",
      "  0.77582594 0.33703601 0.5495502  0.54630197]\n",
      " [0.5366234  0.65255197 0.37558426 0.72816127 0.17375678 0.77582594\n",
      "  0.36568984 0.98411278 0.39405567 0.57262969]\n",
      " [0.69384401 0.44055531 0.78924849 0.81523577 0.45299754 0.33703601\n",
      "  0.98411278 0.29143227 0.69530523 0.99031526]\n",
      " [0.73655031 0.41391258 0.50633667 0.21716694 0.36755016 0.5495502\n",
      "  0.39405567 0.69530523 0.08158703 0.23494606]\n",
      " [0.95793076 0.87929097 0.21113713 0.67512594 0.21550285 0.54630197\n",
      "  0.57262969 0.99031526 0.23494606 0.94641776]]\n",
      "\n",
      "Reconstructed: \n",
      " [[0.02901716 0.84000121 0.46036963 0.27534251 0.69933207 0.98275829\n",
      "  0.5366234  0.69384401 0.73655032 0.95793076]\n",
      " [0.84000121 0.66928011 0.8914214  0.95824127 0.98729921 0.44782021\n",
      "  0.65255197 0.4405553  0.41391258 0.87929098]\n",
      " [0.46036963 0.8914214  0.15078238 0.42862802 0.49744066 0.01672111\n",
      "  0.37558425 0.78924849 0.50633667 0.21113713]\n",
      " [0.27534251 0.95824127 0.42862802 0.30563469 0.55231281 0.65599998\n",
      "  0.72816126 0.81523577 0.21716694 0.67512594]\n",
      " [0.69933207 0.98729921 0.49744066 0.55231281 0.68593304 0.10171933\n",
      "  0.17375678 0.45299754 0.36755016 0.21550285]\n",
      " [0.98275829 0.44782021 0.01672111 0.65599998 0.10171933 0.71660803\n",
      "  0.77582594 0.33703601 0.5495502  0.54630198]\n",
      " [0.5366234  0.65255197 0.37558425 0.72816126 0.17375678 0.77582594\n",
      "  0.36568984 0.98411278 0.39405567 0.57262969]\n",
      " [0.69384401 0.4405553  0.78924849 0.81523577 0.45299754 0.33703601\n",
      "  0.98411278 0.29143227 0.69530523 0.99031526]\n",
      " [0.73655032 0.41391258 0.50633667 0.21716694 0.36755016 0.5495502\n",
      "  0.39405567 0.69530523 0.08158703 0.23494606]\n",
      " [0.95793076 0.87929098 0.21113713 0.67512594 0.21550285 0.54630198\n",
      "  0.57262969 0.99031526 0.23494606 0.94641777]]\n",
      "\n",
      "Error: 6.457407164383373e-16\n"
     ]
    }
   ],
   "source": [
    "A = generate_symmetric_matrix(10)\n",
    "Q, T, Q_inv = exact_diagonalization(A)\n",
    "reconstructed_A = Q @ T @ Q_inv\n",
    "\n",
    "print(f\"Matrix: \\n {A}\", end=\"\\n\\n\")\n",
    "print(f\"Reconstructed: \\n {reconstructed_A}\", end=\"\\n\\n\")\n",
    "print(f\"Error: {error(A, reconstructed_A)}\")"
   ]
  },
  {
   "cell_type": "code",
   "execution_count": null,
   "id": "c60640d7",
   "metadata": {},
   "outputs": [],
   "source": [
    "A = generate_symmetric_matrix(10000)\n",
    "Q, T, Q_inv = exact_diagonalization(A)\n",
    "reconstructed_A = Q @ T @ Q_inv\n",
    "\n",
    "print(f\"Matrix: \\n {A}\", end=\"\\n\\n\")\n",
    "print(f\"Reconstructed: \\n {reconstructed_A}\", end=\"\\n\\n\")\n",
    "print(f\"Error: {error(A, reconstructed_A)}\")"
   ]
  },
  {
   "cell_type": "code",
   "execution_count": null,
   "id": "afe26e8c",
   "metadata": {},
   "outputs": [],
   "source": []
  }
 ],
 "metadata": {
  "kernelspec": {
   "display_name": "Python 3.8",
   "language": "python",
   "name": "python38"
  },
  "language_info": {
   "codemirror_mode": {
    "name": "ipython",
    "version": 3
   },
   "file_extension": ".py",
   "mimetype": "text/x-python",
   "name": "python",
   "nbconvert_exporter": "python",
   "pygments_lexer": "ipython3",
   "version": "3.8.8"
  }
 },
 "nbformat": 4,
 "nbformat_minor": 5
}
